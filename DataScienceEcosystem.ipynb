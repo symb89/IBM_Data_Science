{
 "cells": [
  {
   "cell_type": "markdown",
   "id": "e5a76a57-5eb5-4feb-9d5d-2c947cc694f0",
   "metadata": {},
   "source": [
    "# Data Science Tools and Ecosystem"
   ]
  },
  {
   "cell_type": "markdown",
   "id": "77b1e213-3c3c-4660-bc57-20de5796105d",
   "metadata": {},
   "source": [
    "In this notebook, Data Science Tools and Ecosystems are summarized."
   ]
  },
  {
   "cell_type": "markdown",
   "id": "3909f875-203f-4288-b565-9e1a6a0b232d",
   "metadata": {},
   "source": [
    "**Objectives:**\n",
    "\n",
    "- List some of the popular languages used in data science\n",
    "- List some of the popular libraries used in data science\n",
    "- Provide examples of simple arithmetic expressions"
   ]
  },
  {
   "cell_type": "markdown",
   "id": "73097319-510e-4554-a248-15cd2f5f388a",
   "metadata": {},
   "source": [
    "Some of the popular languages that data scientists use are:\n",
    "\n",
    "1. R\n",
    "2. Python\n",
    "3. Julia"
   ]
  },
  {
   "cell_type": "markdown",
   "id": "0f5d2eaa-a52f-481d-9bb6-8bbbb9024420",
   "metadata": {},
   "source": [
    "Some of the commonly used libraries used by Data Scientists include:\n",
    "\n",
    "1. sci-kit learn\n",
    "2. pandas\n",
    "3. numpy"
   ]
  },
  {
   "cell_type": "markdown",
   "id": "05c43307-1d12-4286-a05b-93a660765ad8",
   "metadata": {},
   "source": [
    "|Data Science Tools|\n",
    "--------------------\n",
    "|Watson Studio|\n",
    "|RStudio|\n",
    "|JupyterLab|"
   ]
  },
  {
   "cell_type": "markdown",
   "id": "45f7482b-ee7c-4faa-aab9-c0925104a57d",
   "metadata": {},
   "source": [
    "### Below are a few examples of evaluating arithmetic expressions in Python"
   ]
  },
  {
   "cell_type": "code",
   "execution_count": 1,
   "id": "702b3f79-ed32-46ac-b24d-6d97df2fb725",
   "metadata": {
    "tags": []
   },
   "outputs": [
    {
     "data": {
      "text/plain": [
       "17"
      ]
     },
     "execution_count": 1,
     "metadata": {},
     "output_type": "execute_result"
    }
   ],
   "source": [
    "#This a simple arithmetic expression to mutiply then add integers\n",
    "\n",
    "(3*4)+5"
   ]
  },
  {
   "cell_type": "code",
   "execution_count": 2,
   "id": "84d798bf-1470-423e-ac2e-a82ff71fc8f5",
   "metadata": {
    "tags": []
   },
   "outputs": [
    {
     "data": {
      "text/plain": [
       "3.3333333333333335"
      ]
     },
     "execution_count": 2,
     "metadata": {},
     "output_type": "execute_result"
    }
   ],
   "source": [
    "#This will convert 200 minutes to hours by diving by 60\n",
    "\n",
    "200/60"
   ]
  },
  {
   "cell_type": "markdown",
   "id": "6237d83a-3d44-490c-a4ba-0fd1242fbe83",
   "metadata": {},
   "source": [
    "## Author:\n",
    "Symron Bansal"
   ]
  },
  {
   "cell_type": "code",
   "execution_count": null,
   "id": "911460e6-6723-49f7-b123-b9319e8ac345",
   "metadata": {},
   "outputs": [],
   "source": []
  }
 ],
 "metadata": {
  "kernelspec": {
   "display_name": "Python",
   "language": "python",
   "name": "conda-env-python-py"
  },
  "language_info": {
   "codemirror_mode": {
    "name": "ipython",
    "version": 3
   },
   "file_extension": ".py",
   "mimetype": "text/x-python",
   "name": "python",
   "nbconvert_exporter": "python",
   "pygments_lexer": "ipython3",
   "version": "3.7.12"
  }
 },
 "nbformat": 4,
 "nbformat_minor": 5
}
